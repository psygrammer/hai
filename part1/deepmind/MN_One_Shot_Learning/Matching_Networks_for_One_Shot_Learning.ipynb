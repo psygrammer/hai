{
 "cells": [
  {
   "cell_type": "markdown",
   "metadata": {},
   "source": [
    "# Matching Networks for One Shot Learning"
   ]
  },
  {
   "cell_type": "markdown",
   "metadata": {},
   "source": [
    "* 싸이그래머 / HAI : 파트 1 - 딥마인드 논문 리뷰[1]\n",
    "* 김무성"
   ]
  },
  {
   "cell_type": "markdown",
   "metadata": {},
   "source": [
    "# Contents\n",
    "* 1 Introduction\n",
    "* 2 Model\n",
    "    - 2.1 Model Architecture\n",
    "        - 2.1.1 The Attention Kernel\n",
    "        - 2.1.2 Full Context Embeddings\n",
    "    - 2.2 Training Strategy\n",
    "* 3 Related Work\n",
    "    - 3.1 Memory Augmented Neural Networks\n",
    "    - 3.2 Metric Learning\n",
    "* 4 Experiments\n",
    "    - 4.1 Image Classification Results\n",
    "        - 4.1.1 Omniglot\n",
    "        - 4.1.2 ImageNet\n",
    "        - 4.1.3 One-Shot Language Modeling\n",
    "* 5 Conclusion"
   ]
  },
  {
   "cell_type": "markdown",
   "metadata": {},
   "source": [
    "#### 참고\n",
    "* [2] (code) zergylord/oneshot - https://github.com/zergylord/oneshot\n",
    "* [3] Deep Learning Tutorial, part 2 (by Ruslan Salakhutdinov) - http://www.slideshare.net/ktoshik/deep-learning-tutorial-part-2-by-ruslan-salakhutdinov\n",
    "* [4] Slides from the ICML'16 Talk: One-Shot Generalization in Deep Generative Models - https://www.youtube.com/watch?v=TpmoQ_j3Jv4\n",
    "* [5] One-shot learning (Wikipedia)- https://en.wikipedia.org/wiki/One-shot_learning\n",
    "* [7] karpathy/paper-notes/matching_networks.md - https://github.com/karpathy/paper-notes/blob/master/matching_networks.md\n",
    "* [9] (블로그) How is one-shot learning different from deep learning? - https://www.quora.com/How-is-one-shot-learning-different-from-deep-learning\n",
    "* [10] (blog) Matching Networks for One Shot Learning - http://www.cnblogs.com/huangxiao2015/p/5685293.html"
   ]
  },
  {
   "cell_type": "markdown",
   "metadata": {},
   "source": [
    "# 1 Introduction"
   ]
  },
  {
   "cell_type": "markdown",
   "metadata": {},
   "source": [
    "<img src=\"figures/cap1.png\" width=600 />   "
   ]
  },
  {
   "cell_type": "markdown",
   "metadata": {},
   "source": [
    "# 2 Model\n",
    "* 2.1 Model Architecture\n",
    "* 2.2 Training Strategy"
   ]
  },
  {
   "cell_type": "markdown",
   "metadata": {},
   "source": [
    "## 2.1 Model Architecture\n",
    "* 2.1.1 The Attention Kernel\n",
    "* 2.1.2 Full Context Embeddings"
   ]
  },
  {
   "cell_type": "markdown",
   "metadata": {},
   "source": [
    "<img src=\"figures/cap2.png\" width=600 /> "
   ]
  },
  {
   "cell_type": "markdown",
   "metadata": {},
   "source": [
    "### 2.1.1 The Attention Kernel"
   ]
  },
  {
   "cell_type": "markdown",
   "metadata": {},
   "source": [
    "<img src=\"figures/cap3.png\" width=600 />"
   ]
  },
  {
   "cell_type": "markdown",
   "metadata": {},
   "source": [
    "### 2.1.2 Full Context Embeddings"
   ]
  },
  {
   "cell_type": "markdown",
   "metadata": {},
   "source": [
    "<img src=\"figures/cap4.png\" width=600 />  "
   ]
  },
  {
   "cell_type": "markdown",
   "metadata": {},
   "source": [
    "## 2.2 Training Strategy"
   ]
  },
  {
   "cell_type": "markdown",
   "metadata": {},
   "source": [
    "<img src=\"figures/cap5.png\" width=600 />"
   ]
  },
  {
   "cell_type": "markdown",
   "metadata": {},
   "source": [
    "# 3 Related Work\n",
    "* 3.1 Memory Augmented Neural Networks\n",
    "* 3.2 Metric Learning"
   ]
  },
  {
   "cell_type": "markdown",
   "metadata": {},
   "source": [
    "#### 참고\n",
    "* [5] One-shot learning (Wikipedia)- https://en.wikipedia.org/wiki/One-shot_learning\n",
    "* [6] (슬라이드) Meta-Learning with Memory Augmented Neural Network - http://www.slideshare.net/YusukeWatanabe3/metalearning-with-memory-augmented-neural-network\n",
    "* [9] (블로그) How is one-shot learning different from deep learning? - https://www.quora.com/How-is-one-shot-learning-different-from-deep-learning"
   ]
  },
  {
   "cell_type": "markdown",
   "metadata": {},
   "source": [
    "## 3.1 Memory Augmented Neural Networks"
   ]
  },
  {
   "cell_type": "markdown",
   "metadata": {},
   "source": [
    "## 3.2 Metric Learning"
   ]
  },
  {
   "cell_type": "markdown",
   "metadata": {},
   "source": [
    "# 4 Experiments\n",
    "* 4.1 Image Classification Results"
   ]
  },
  {
   "cell_type": "markdown",
   "metadata": {},
   "source": [
    "#### 참고\n",
    "* [11] The Penn Treebank Project - http://www.cis.upenn.edu/~treebank/home.html\n",
    "* [12] Language Data Resources : Treebanks - https://ufal.mff.cuni.cz/~zabokrtsky/courses/npfl070/html/slides/pfl070-treebanks.ppt\n",
    "* [13] brendenlake/omniglot (dataset) - https://github.com/brendenlake/omniglot\n",
    "* [14] Omniglot - http://www.omniglot.com/\n",
    "* [15] 옴니글롯 - https://ko.wikipedia.org/wiki/%EC%98%B4%EB%8B%88%EA%B8%80%EB%A1%AF"
   ]
  },
  {
   "cell_type": "markdown",
   "metadata": {},
   "source": [
    "## 4.1 Image Classification Results\n",
    "* 4.1.1 Omniglot\n",
    "* 4.1.2 ImageNet\n",
    "* 4.1.3 One-Shot Language Modeling"
   ]
  },
  {
   "cell_type": "markdown",
   "metadata": {},
   "source": [
    "### 4.1.1 Omniglot"
   ]
  },
  {
   "cell_type": "markdown",
   "metadata": {},
   "source": [
    "<img src=\"figures/cap6.png\" width=600 />"
   ]
  },
  {
   "cell_type": "markdown",
   "metadata": {},
   "source": [
    "### 4.1.2 ImageNet"
   ]
  },
  {
   "cell_type": "markdown",
   "metadata": {},
   "source": [
    "<img src=\"figures/cap7.png\" width=600 />"
   ]
  },
  {
   "cell_type": "markdown",
   "metadata": {},
   "source": [
    "<img src=\"figures/cap8.png\" width=600 />"
   ]
  },
  {
   "cell_type": "markdown",
   "metadata": {},
   "source": [
    "<img src=\"figures/cap9.png\" width=600 />"
   ]
  },
  {
   "cell_type": "markdown",
   "metadata": {},
   "source": [
    "### 4.1.3 One-Shot Language Modeling"
   ]
  },
  {
   "cell_type": "markdown",
   "metadata": {},
   "source": [
    "<img src=\"figures/cap10.png\" width=600 />  "
   ]
  },
  {
   "cell_type": "markdown",
   "metadata": {},
   "source": [
    "# 5 Conclusion"
   ]
  },
  {
   "cell_type": "markdown",
   "metadata": {},
   "source": [
    "# 참고자료\n",
    "* [1] (paper) Matching Networks for One Shot Learning - https://arxiv.org/abs/1606.04080\n",
    "* [2] (code) zergylord/oneshot - https://github.com/zergylord/oneshot\n",
    "* [3] Deep Learning Tutorial, part 2 (by Ruslan Salakhutdinov) - http://www.slideshare.net/ktoshik/deep-learning-tutorial-part-2-by-ruslan-salakhutdinov\n",
    "* [4] Slides from the ICML'16 Talk: One-Shot Generalization in Deep Generative Models - https://www.youtube.com/watch?v=TpmoQ_j3Jv4\n",
    "* [5] One-shot learning (Wikipedia)- https://en.wikipedia.org/wiki/One-shot_learning\n",
    "* [6] (슬라이드) Meta-Learning with Memory Augmented Neural Network  - http://www.slideshare.net/YusukeWatanabe3/metalearning-with-memory-augmented-neural-network\n",
    "* [7] karpathy/paper-notes/matching_networks.md - https://github.com/karpathy/paper-notes/blob/master/matching_networks.md\n",
    "* [8] (요약) Andrej Karpathy’s Paper Notes - https://tensorflowkorea.wordpress.com/tag/one-shot-learning/\n",
    "* [9] (블로그) How is one-shot learning different from deep learning? - https://www.quora.com/How-is-one-shot-learning-different-from-deep-learning\n",
    "* [10] (blog) Matching Networks for One Shot Learning - http://www.cnblogs.com/huangxiao2015/p/5685293.html\n",
    "* [11] The Penn Treebank Project - http://www.cis.upenn.edu/~treebank/home.html\n",
    "* [12] Language Data Resources : Treebanks - https://ufal.mff.cuni.cz/~zabokrtsky/courses/npfl070/html/slides/pfl070-treebanks.ppt\n",
    "* [13] brendenlake/omniglot (dataset) - https://github.com/brendenlake/omniglot\n",
    "* [14] Omniglot - http://www.omniglot.com/\n",
    "* [15] 옴니글롯 - https://ko.wikipedia.org/wiki/%EC%98%B4%EB%8B%88%EA%B8%80%EB%A1%AF"
   ]
  }
 ],
 "metadata": {
  "kernelspec": {
   "display_name": "Python 2",
   "language": "python",
   "name": "python2"
  },
  "language_info": {
   "codemirror_mode": {
    "name": "ipython",
    "version": 2
   },
   "file_extension": ".py",
   "mimetype": "text/x-python",
   "name": "python",
   "nbconvert_exporter": "python",
   "pygments_lexer": "ipython2",
   "version": "2.7.6"
  }
 },
 "nbformat": 4,
 "nbformat_minor": 0
}

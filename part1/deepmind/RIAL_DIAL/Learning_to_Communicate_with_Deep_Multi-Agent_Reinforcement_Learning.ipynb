{
 "cells": [
  {
   "cell_type": "markdown",
   "metadata": {},
   "source": [
    "# Learning to Communicate with Deep Multi-Agent Reinforcement Learning"
   ]
  },
  {
   "cell_type": "markdown",
   "metadata": {},
   "source": [
    "* 싸이그래머 / HAI : 파트 1 - 딥마인드 논문 리뷰[1]\n",
    "* 김무성"
   ]
  },
  {
   "cell_type": "markdown",
   "metadata": {},
   "source": [
    "# Contents\n",
    "* Abstract\n",
    "* 1 Introduction\n",
    "* 2 Related Work\n",
    "* 3 Background\n",
    "    - Deep Q-Networks (DQN)\n",
    "    - Independent DQN\n",
    "    - Deep Recurrent Q-Networks\n",
    "* 4 Setting\n",
    "* 5 Methods\n",
    "    - 5.1 Reinforced Inter-Agent Learning\n",
    "        - Parameter Sharing\n",
    "    - 5.2 Differentiable Inter-Agent Learning\n",
    "* 6 Experiments\n",
    "    - 6.1 Model Architecture\n",
    "    - 6.2 Switch Riddle\n",
    "        - Architecture\n",
    "        - Complexity\n",
    "        - Experimental results\n",
    "    - 6.3 MNIST Games\n",
    "        - Colour-Digit MNIST\n",
    "        - Multi-Step MNIST\n",
    "        - Architecture\n",
    "        - Experimental results\n",
    "    - 6.4 Effect of Channel Noise\n",
    "* 7 Conclusions"
   ]
  },
  {
   "cell_type": "markdown",
   "metadata": {},
   "source": [
    "#### 참고\n",
    "* [2] (videolectures.net) Learning to Communicate with Deep Multi-Agent Reinforcement Learning - http://videolectures.net/deeplearning2016_foerster_learning_communicate/\n",
    "* [3] (slide) Learning to Communicate with Deep Multi-Agent Reinforcement Learning - http://videolectures.net/site/normal_dl/tag=1051681/deeplearning2016_foerster_learning_communicate_01.pdf"
   ]
  },
  {
   "cell_type": "markdown",
   "metadata": {},
   "source": [
    "# Abstract"
   ]
  },
  {
   "cell_type": "markdown",
   "metadata": {},
   "source": [
    "# 1 Introduction"
   ]
  },
  {
   "cell_type": "markdown",
   "metadata": {},
   "source": [
    "# 2 Related Work"
   ]
  },
  {
   "cell_type": "markdown",
   "metadata": {},
   "source": [
    "# 3 Background\n",
    "* Deep Q-Networks (DQN)\n",
    "* Independent DQN\n",
    "* Deep Recurrent Q-Networks"
   ]
  },
  {
   "cell_type": "markdown",
   "metadata": {},
   "source": [
    "## Deep Q-Networks (DQN)"
   ]
  },
  {
   "cell_type": "markdown",
   "metadata": {},
   "source": [
    "## Independent DQN"
   ]
  },
  {
   "cell_type": "markdown",
   "metadata": {},
   "source": [
    "## Deep Recurrent Q-Networks"
   ]
  },
  {
   "cell_type": "markdown",
   "metadata": {},
   "source": [
    "# 4 Setting"
   ]
  },
  {
   "cell_type": "markdown",
   "metadata": {},
   "source": [
    "# 5 Methods\n",
    "* 5.1 Reinforced Inter-Agent Learning\n",
    "* 5.2 Differentiable Inter-Agent Learning"
   ]
  },
  {
   "cell_type": "markdown",
   "metadata": {},
   "source": [
    "## 5.1 Reinforced Inter-Agent Learning\n",
    "* Parameter Sharing"
   ]
  },
  {
   "cell_type": "markdown",
   "metadata": {},
   "source": [
    "<img src=\"figures/cap1.png\" width=600 />"
   ]
  },
  {
   "cell_type": "markdown",
   "metadata": {},
   "source": [
    "## 5.2 Differentiable Inter-Agent Learning"
   ]
  },
  {
   "cell_type": "markdown",
   "metadata": {},
   "source": [
    "# 6 Experiments\n",
    "* 6.1 Model Architecture\n",
    "* 6.2 Switch Riddle\n",
    "* 6.3 MNIST Games\n",
    "* 6.4 Effect of Channel Noise"
   ]
  },
  {
   "cell_type": "markdown",
   "metadata": {},
   "source": [
    "## 6.1 Model Architecture"
   ]
  },
  {
   "cell_type": "markdown",
   "metadata": {},
   "source": [
    "<img src=\"figures/cap2.png\"  />"
   ]
  },
  {
   "cell_type": "markdown",
   "metadata": {},
   "source": [
    "## 6.2 Switch Riddle\n",
    "* Architecture\n",
    "* Complexity\n",
    "* Experimental results"
   ]
  },
  {
   "cell_type": "markdown",
   "metadata": {},
   "source": [
    "<img src=\"figures/cap3.png\" width=600 />"
   ]
  },
  {
   "cell_type": "markdown",
   "metadata": {},
   "source": [
    "### Architecture"
   ]
  },
  {
   "cell_type": "markdown",
   "metadata": {},
   "source": [
    "### Complexity"
   ]
  },
  {
   "cell_type": "markdown",
   "metadata": {},
   "source": [
    "### Experimental results"
   ]
  },
  {
   "cell_type": "markdown",
   "metadata": {},
   "source": [
    "<img src=\"figures/cap4.png\" width=600 />"
   ]
  },
  {
   "cell_type": "markdown",
   "metadata": {},
   "source": [
    "## 6.3 MNIST Games\n",
    "* Colour-Digit MNIST\n",
    "* Multi-Step MNIST\n",
    "* Architecture\n",
    "* Experimental results"
   ]
  },
  {
   "cell_type": "markdown",
   "metadata": {},
   "source": [
    "<img src=\"figures/cap5.png\" width=600 />"
   ]
  },
  {
   "cell_type": "markdown",
   "metadata": {},
   "source": [
    "### Colour-Digit MNIST"
   ]
  },
  {
   "cell_type": "markdown",
   "metadata": {},
   "source": [
    "### Multi-Step MNIST"
   ]
  },
  {
   "cell_type": "markdown",
   "metadata": {},
   "source": [
    "### Architecture"
   ]
  },
  {
   "cell_type": "markdown",
   "metadata": {},
   "source": [
    "### Experimental results"
   ]
  },
  {
   "cell_type": "markdown",
   "metadata": {},
   "source": [
    "<img src=\"figures/cap6.png\" width=600 />"
   ]
  },
  {
   "cell_type": "markdown",
   "metadata": {},
   "source": [
    "## 6.4 Effect of Channel Noise"
   ]
  },
  {
   "cell_type": "markdown",
   "metadata": {},
   "source": [
    "<img src=\"figures/cap7.png\" width=600 />"
   ]
  },
  {
   "cell_type": "markdown",
   "metadata": {},
   "source": [
    "# 7 Conclusions"
   ]
  },
  {
   "cell_type": "markdown",
   "metadata": {},
   "source": [
    "# 참고자료\n",
    "* [1] Learning to Communicate with Deep Multi-Agent Reinforcement Learning - https://arxiv.org/pdf/1605.06676v2.pdf\n",
    "* [2] (videolectures.net) Learning to Communicate with Deep Multi-Agent Reinforcement Learning - http://videolectures.net/deeplearning2016_foerster_learning_communicate/\n",
    "* [3] (slide) Learning to Communicate with Deep Multi-Agent Reinforcement Learning - http://videolectures.net/site/normal_dl/tag=1051681/deeplearning2016_foerster_learning_communicate_01.pdf\n",
    "* [4] (code/Lua) https://github.com/iassael/learning-to-communicate"
   ]
  }
 ],
 "metadata": {
  "kernelspec": {
   "display_name": "Python 2",
   "language": "python",
   "name": "python2"
  },
  "language_info": {
   "codemirror_mode": {
    "name": "ipython",
    "version": 2
   },
   "file_extension": ".py",
   "mimetype": "text/x-python",
   "name": "python",
   "nbconvert_exporter": "python",
   "pygments_lexer": "ipython2",
   "version": "2.7.6"
  }
 },
 "nbformat": 4,
 "nbformat_minor": 1
}

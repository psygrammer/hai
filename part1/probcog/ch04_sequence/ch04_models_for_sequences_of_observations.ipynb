{
 "cells": [
  {
   "cell_type": "markdown",
   "metadata": {},
   "source": [
    "# Ch 5. Models for sequences of observations"
   ]
  },
  {
   "cell_type": "markdown",
   "metadata": {},
   "source": [
    "시퀀스 데이터를 다루어 보자\n",
    "- 연속적인 동전 던지기\n",
    "- 기상 관측소의 온도의 연속적 측정\n",
    "- 문장 내의 단어들\n",
    "\n",
    "## Independent and Exchangeable Sequences\n",
    "\n",
    "### identically, independently distributed (i.i.d.)\n",
    "- 동일한 분포에서 생성되었지만 서로 간에는 상관없는 데이터들\n",
    " \n",
    "#### iid 예제 1. 동전 던지기 \n",
    "- 아래 그림에서 두 개의 동전 던지기는 같은 동전의 분포를 따르지만 관련은 없다 \n",
    "- P(second|first) = P(second) 로 확인\n",
    "\n",
    "![](./images/ch04/01.png)\n",
    "![](./images/ch04/02.png)\n",
    "\n",
    "#### iid 예제 2. 문장 속 단어\n",
    "단어들이 발생 확률에 따라서 발현한다.\n",
    "\n",
    "![](./images/ch04/03.png)\n",
    "\n"
   ]
  },
  {
   "cell_type": "markdown",
   "metadata": {},
   "source": [
    "#### 문장 속 단어 예제를 Non-iid 로 바꾸어 보자 \n",
    "- 단어끼리의 상관관계를 가지게 된다.\n",
    "- 첫 단어를 관측함으로서 단어 빈도(word-probs)를 추측할 수 있고, 이것이 결국 두번째 단어도 예측하게 한다.\n",
    "\n",
    "![](./images/ch04/04.png)\n",
    "\n",
    "\n",
    "#### 동전 던지기 예제를 Non-iid 로 바꾸어 보자 \n",
    "- 동전 던지기끼리 상관관계를 가지게 된다.\n",
    "- 첫 번째 동전을 던져서 동전의 속성을 결정하고, 그 이후에 두번째 동전을 던진다. \n",
    "\n",
    "![](./images/ch04/05.png)"
   ]
  },
  {
   "cell_type": "markdown",
   "metadata": {},
   "source": [
    "### Exchangeable\n",
    "- 앞선 선택이 뒤의 선택에 영향을 주는 것\n",
    "- a sequence such that future samples behave like earlier samples\n",
    "- the future being predictable on the basis of past experience\n",
    "\n",
    "#### urn 예제\n",
    "- 흰 공들과 검은 공들을 섞어서 안보이게 주머니에 넣는다.\n",
    "- 공 하나를 안보고 꺼내고, 그 색깔을 확인하고 그 색깔에 해당하는 추가적인 공들(ex. 4개)을 주머니에 더 넣는다.\n",
    "- 공 N개를 이처럼 sampling해서 그 분포를 본다.\n",
    "\n",
    "![](./images/ch04/06.png)\n",
    "\n",
    "- 처음 꺼낸 공 색깔에 치우쳐서 분포가 결정된다. \n",
    " - bbb와 www가 확률이 높다. 1:2의 비율\n",
    "- 그렇지만 전부 다 순열의 순서를 바꾸어도 확률은 바뀌지 않는다.\n",
    " - ** permutations of a sequence all have the same probability **\n",
    "  - P(bbw) = P(bwb) = P(wbb)\n",
    "- 모든 iid는 exchangeable하다. 하지만 exchangeable이라고 해서 iid는 아니다.\n",
    "\n",
    "![](./images/ch04/07.png)\n",
    "\n",
    "\n"
   ]
  },
  {
   "cell_type": "markdown",
   "metadata": {},
   "source": [
    "### de Finetti theorem\n",
    "- 위의 구현을 피네티 이론을 이용해서 간결하게 고쳐보자\n",
    "\n",
    "![](./images/ch04/25.png)\n",
    "![](./images/ch04/26.png)\n",
    "![](./images/ch04/27.png)\n"
   ]
  },
  {
   "cell_type": "markdown",
   "metadata": {},
   "source": [
    "## Markov Models\n",
    "\n",
    "### 관측의 순서가 중요한 경우\n",
    "- 오늘 기온은 어제의 기온에 종속(dependent on)된다. 그러나 어제 이전 기온에는 무관(independent)하다.\n",
    "- 아래 예에서는 true 혹은 false의 연속된 출현(runs)가 길게 나타나는 경향을 보여준다.\n",
    "\n",
    "![](./images/ch04/08.png)\n",
    "\n",
    "\n",
    "### 더 다양성을 나타내는 Markov model 예제\n",
    "- 앞 단어에 따라 단어의 출현 multinomial 분포가 달라진다.\n",
    "- 문장의 길이도 stop 단어의 출현으로 결정되므로 확률적으로 결정\n",
    "- 대략적인 자연어 문장을 흉내 시도\n",
    "\n",
    "![](./images/ch04/09.png)\n",
    "\n",
    "### 단어 사전 확률을 이용하여 표현\n",
    "- dirichilet으로 단어별 사전 확률을 임의로 정의\n",
    "- dirichilet(1,1,1..1) 이면 uniform 분포\n",
    "- 이처럼 단어별 사전 확률을 이용하는 체계를 hierachical n-gram 이라 부르기도 함\n",
    "\n",
    "![](./images/ch04/10.png)\n",
    "![](./images/ch04/11.png)\n"
   ]
  },
  {
   "cell_type": "markdown",
   "metadata": {},
   "source": [
    "## 주관적인 임의성(Subjective Randomness)\n",
    "\n",
    "### 00000 과 00101 중 어느쪽이 더 random한가?\n",
    "- fair coin으로 생성되었다면 둘 다 동등하게 관측된다.(equally probable)\n",
    "- 하지만 사람의 심리는 00101이 더 random하다고 느낀다.\n",
    " - 심령술사(psychic) 실험\n",
    "  - 심령술사가 random한 sequence를 어떤 염력(?)으로 전송 => listener가 읽기\n",
    "  - 00101, 00110, 01100, 01101에 대한 강한 선호 발견 \n",
    "  \n",
    "### 사람들은 더 대표성이 있는 (more representative) 것을 선호\n",
    "- more representative : 각각의 출현 빈도에 맞게 나타나게\n",
    " - ex) 00101이 00000이나 11111보다 대표성이 있다. 왜냐하면 0과 1의 출현 빈도가 fair 하므로\n",
    "- 랜덤성은 **trick(non-uniform) process에서 생성하는 것이 아니라 fair한 process에서 생성되는 것**으로 간주한다.\n",
    " - ex) 00101이 01010 보다 더 랜덤하다고 본다. \n",
    "- 규칙성이 드러나면 랜덤성이 떨어진다.\n",
    " - ex) all zero, all one, alternating zero and one\n",
    " \n",
    "![](./images/ch04/12.png)\n",
    "![](./images/ch04/13.png)\n",
    "![](./images/ch04/14.png)\n",
    " \n",
    " "
   ]
  },
  {
   "cell_type": "markdown",
   "metadata": {},
   "source": [
    "## Hidden Markov Models\n",
    "\n",
    "관측되지 않는, 숨겨진(hidden) state가 관측(observation)을 생성한다.\n",
    "\n",
    "![](./images/ch04/15.png)\n",
    "\n",
    "### 문장 생성 예제를 MM에서 HMM으로 확장\n",
    "- Markov Model로 다룰 때는 단어별 사전 관측확률, 즉 P(word)를 정의\n",
    "- HMM으로 다룰 때는 P(word|state)를 정의\n",
    "\n",
    "![](./images/ch04/16.png)\n"
   ]
  },
  {
   "cell_type": "markdown",
   "metadata": {},
   "source": [
    "## Probabilistic Context-free Grammars\n",
    "\n",
    "### Context-free Grammars\n",
    "\n",
    "![](./images/ch04/17.png)\n",
    "![](./images/ch04/18.png)\n",
    "![](./images/ch04/20.png)\n",
    "\n",
    "### Probabilistic context-free Grammars\n",
    "\n",
    "![](./images/ch04/19.png)\n",
    "\n",
    "---\n",
    "\n",
    "### PCFG를 이용해서 좀더 자연어스럽게 바꾸기\n",
    "- 아래 예에서 sample thunk를 이용해서 recursive하게 causal process를 진행\n",
    "- terminal로 recursive가 종료되게 보장\n",
    "\n",
    "![](./images/ch04/21.png)\n",
    "![](./images/ch04/22.png)\n"
   ]
  },
  {
   "cell_type": "markdown",
   "metadata": {},
   "source": [
    "## Unfold\n",
    "\n",
    "### unfold는 list 를 build up하는 패턴\n",
    "- 반면 fold는 만들어진 list를 처리(process each element)하는 패턴\n",
    "- recursive하게 call하면서 요소가 list에 append되고, 종료 조건을 가지고 종료 시점을 결정\n",
    "- high-order procedure\n",
    "\n",
    "![](./images/ch04/23.png)\n",
    "\n",
    "### unfold 패턴으로 이전 예제를 리펙토링 해보자\n",
    "\n",
    "#### 리펙토링 전\n",
    "![](./images/ch04/10.png)\n",
    "\n",
    "#### 리펙토링 후\n",
    "\n",
    "![](./images/ch04/24.png)\n",
    "\n"
   ]
  },
  {
   "cell_type": "code",
   "execution_count": null,
   "metadata": {
    "collapsed": true
   },
   "outputs": [],
   "source": []
  }
 ],
 "metadata": {
  "kernelspec": {
   "display_name": "Python 2",
   "language": "python",
   "name": "python2"
  },
  "language_info": {
   "codemirror_mode": {
    "name": "ipython",
    "version": 2
   },
   "file_extension": ".py",
   "mimetype": "text/x-python",
   "name": "python",
   "nbconvert_exporter": "python",
   "pygments_lexer": "ipython2",
   "version": "2.7.11"
  }
 },
 "nbformat": 4,
 "nbformat_minor": 0
}
